{
  "nbformat": 4,
  "nbformat_minor": 0,
  "metadata": {
    "colab": {
      "name": "logprog_intro.ipynb",
      "provenance": [],
      "collapsed_sections": [
        "Q_LDD3DwuoTH",
        "bg4zLYSUuD_m",
        "offyalwvueOT",
        "Wfc0QUAGk15o"
      ]
    },
    "kernelspec": {
      "name": "python3",
      "display_name": "Python 3"
    },
    "language_info": {
      "name": "python"
    }
  },
  "cells": [
    {
      "cell_type": "markdown",
      "source": [
        "# Um caminhar sobre o Python"
      ],
      "metadata": {
        "id": "Q_LDD3DwuoTH"
      }
    },
    {
      "cell_type": "code",
      "execution_count": null,
      "metadata": {
        "id": "7rKVHptBeSxx"
      },
      "outputs": [],
      "source": [
        "import pandas as pd"
      ]
    },
    {
      "cell_type": "code",
      "source": [
        "# Endereço dos dados a serem trabalhados\n",
        "url = \"https://raw.githubusercontent.com/igormorgado/logprog/main/empregados/empregados.csv\""
      ],
      "metadata": {
        "id": "4LOIBiYPeUZM"
      },
      "execution_count": null,
      "outputs": []
    },
    {
      "cell_type": "code",
      "source": [
        "# Carrega os dados e exibe para verificação\n",
        "empregados_df = pd.read_csv(url, index_col=0)\n",
        "empregados_df"
      ],
      "metadata": {
        "id": "v-yOKqWkkoiw"
      },
      "execution_count": null,
      "outputs": []
    },
    {
      "cell_type": "markdown",
      "source": [
        "# Conexão com Banco de Dados"
      ],
      "metadata": {
        "id": "bg4zLYSUuD_m"
      }
    },
    {
      "cell_type": "code",
      "source": [
        "# Carrega a Biblioteca de banco de dados\n",
        "import sqlite3 as db"
      ],
      "metadata": {
        "id": "Fxds-vFdk1fB"
      },
      "execution_count": null,
      "outputs": []
    },
    {
      "cell_type": "code",
      "source": [
        "# Conecta-se ao banco de dados em memória\n",
        "conn = db.connect(':memory:')\n",
        "\n",
        "# Salva o dataframe pandas no banco de dados\n",
        "empregados_df.to_sql(name='empregados', con=conn)"
      ],
      "metadata": {
        "id": "y1dqp_4PmXMv"
      },
      "execution_count": null,
      "outputs": []
    },
    {
      "cell_type": "markdown",
      "source": [
        "## Preparando a requisição"
      ],
      "metadata": {
        "id": "EjfbNj6XuOul"
      }
    },
    {
      "cell_type": "code",
      "source": [
        "# Vamos verificar os maiores salários da empresa, preparando a requisição\n",
        "query = 'SELECT * FROM empregados WHERE salary > 5000 ORDER BY salary DESC'"
      ],
      "metadata": {
        "id": "arNvQ7h7sRB0"
      },
      "execution_count": null,
      "outputs": []
    },
    {
      "cell_type": "markdown",
      "source": [
        "## Método SQL via Pandas"
      ],
      "metadata": {
        "id": "nGrcvVsQtUEL"
      }
    },
    {
      "cell_type": "code",
      "source": [
        "pd.read_sql(query, con=conn)"
      ],
      "metadata": {
        "id": "9ki4FOQoq6Pt"
      },
      "execution_count": null,
      "outputs": []
    },
    {
      "cell_type": "markdown",
      "source": [
        "# Gerando Gráficos para Relatórios"
      ],
      "metadata": {
        "id": "offyalwvueOT"
      }
    },
    {
      "cell_type": "code",
      "source": [
        "import matplotlib.pyplot as plt"
      ],
      "metadata": {
        "id": "2pr9AV4Dugl3"
      },
      "execution_count": null,
      "outputs": []
    },
    {
      "cell_type": "code",
      "source": [
        "empregados_df.hist(column=['age', 'salary']);"
      ],
      "metadata": {
        "id": "pkr4JVCaukNt"
      },
      "execution_count": null,
      "outputs": []
    },
    {
      "cell_type": "markdown",
      "source": [
        "# Inteligência artificial (Bônus)"
      ],
      "metadata": {
        "id": "Wfc0QUAGk15o"
      }
    },
    {
      "cell_type": "code",
      "source": [
        "import numpy as np\n",
        "import matplotlib.pyplot as plt\n",
        "import pandas as pd\n",
        "import pandas_datareader as web\n",
        "import datetime as dt\n",
        "import matplotlib.dates as mdates\n",
        "\n",
        "from sklearn.preprocessing import MinMaxScaler\n",
        "from tensorflow.keras.models import Sequential\n",
        "from tensorflow.keras.layers import Dense,Dropout,LSTM"
      ],
      "metadata": {
        "id": "oYaE1otVzFI1"
      },
      "execution_count": null,
      "outputs": []
    },
    {
      "cell_type": "code",
      "source": [
        "company = 'FB'\n",
        "\n",
        "start = dt.datetime(2012,1,1)\n",
        "end = dt.datetime(2020,1,1)\n",
        "data = web.DataReader(company, 'stooq', start, end)"
      ],
      "metadata": {
        "id": "XzXea3dx1xCi"
      },
      "execution_count": null,
      "outputs": []
    },
    {
      "cell_type": "code",
      "source": [
        "data"
      ],
      "metadata": {
        "id": "VXJRiOcfegUw"
      },
      "execution_count": null,
      "outputs": []
    },
    {
      "cell_type": "code",
      "source": [
        "scaler = MinMaxScaler(feature_range=(0,1))\n",
        "scaled_data = scaler.fit_transform(data['Close'].values.reshape(-1,1))\n",
        "\n",
        "prediction_days = 60\n",
        "\n",
        "x_train = []\n",
        "y_train = []\n",
        "\n",
        "for x in range(prediction_days, len(scaled_data)):\n",
        "  x_train.append(scaled_data[x - prediction_days:x, 0])\n",
        "  y_train.append(scaled_data[x, 0])\n",
        "\n",
        "x_train, y_train = np.array(x_train), np.array(y_train)\n",
        "x_train = np.reshape(x_train, (x_train.shape[0], x_train.shape[1], 1))\n",
        "\n",
        "model = Sequential(name='stock_prediction')\n",
        "model.add(LSTM(units=50, return_sequences=True, input_shape=(x_train.shape[1], 1)))\n",
        "model.add(Dropout(0.2))\n",
        "model.add(LSTM(units=50, return_sequences=True))\n",
        "model.add(Dropout(0.2))\n",
        "model.add(LSTM(units=50))\n",
        "model.add(Dropout(0.2))\n",
        "model.add(Dense(units=1))"
      ],
      "metadata": {
        "id": "5-8uG6oy3JuM"
      },
      "execution_count": null,
      "outputs": []
    },
    {
      "cell_type": "code",
      "source": [
        "model.summary()"
      ],
      "metadata": {
        "id": "C3Fc1-HUnR0p"
      },
      "execution_count": null,
      "outputs": []
    },
    {
      "cell_type": "code",
      "source": [
        "model.compile(optimizer='adam', loss='mean_squared_error')\n",
        "model.fit(x_train, y_train, epochs=25, batch_size=32)"
      ],
      "metadata": {
        "id": "4MyMSxqU4Kxu"
      },
      "execution_count": null,
      "outputs": []
    },
    {
      "cell_type": "code",
      "source": [
        "test_start = dt.datetime(2020,1,1)\n",
        "test_end = dt.datetime.now()\n",
        "test_data = web.DataReader(company, 'stooq', test_start, test_end)\n",
        "actual_prices = test_data['Close'].values\n",
        "\n",
        "total_dataset = pd.concat((data['Close'], test_data['Close']), axis=0)\n",
        "\n",
        "model_inputs = total_dataset[len(total_dataset) - len(test_data) - prediction_days:].values\n",
        "model_inputs = model_inputs.reshape(-1, 1)\n",
        "model_inputs = scaler.transform(model_inputs)"
      ],
      "metadata": {
        "id": "4a4o8BHXe_zd"
      },
      "execution_count": null,
      "outputs": []
    },
    {
      "cell_type": "markdown",
      "source": [
        "## Gerando previsões de teste"
      ],
      "metadata": {
        "id": "crXDB61fgbKC"
      }
    },
    {
      "cell_type": "code",
      "source": [
        "x_test = []\n",
        "\n",
        "for x in range(prediction_days, len(model_inputs)):\n",
        "  x_test.append(model_inputs[x - prediction_days:x, 0])\n",
        "\n",
        "x_test = np.array(x_test)\n",
        "x_test = np.reshape(x_test, (x_test.shape[0], x_test.shape[1], 1))"
      ],
      "metadata": {
        "id": "89cc1hsrgcIF"
      },
      "execution_count": null,
      "outputs": []
    },
    {
      "cell_type": "code",
      "source": [
        "predicted_prices = model.predict(x_test)"
      ],
      "metadata": {
        "id": "kQVOeGlfg4vU"
      },
      "execution_count": null,
      "outputs": []
    },
    {
      "cell_type": "code",
      "source": [
        "predicted_prices = scaler.inverse_transform(predicted_prices)"
      ],
      "metadata": {
        "id": "VJ8_nyj8g875"
      },
      "execution_count": null,
      "outputs": []
    },
    {
      "cell_type": "markdown",
      "source": [
        "## Gráfico das previsões de teste"
      ],
      "metadata": {
        "id": "Vs-0AzhtlTdV"
      }
    },
    {
      "cell_type": "code",
      "source": [
        "fig, ax = plt.subplots(1,1, figsize=(10,6))\n",
        "\n",
        "ax.plot(test_data.index, actual_prices, color='k', label=f'Real data')\n",
        "ax.plot(test_data.index, predicted_prices, color='green', label=f'Predicted data')\n",
        "ax.set_title(f\"{company} share close price\")\n",
        "\n",
        "ax.set_xlabel('Time')\n",
        "ax.xaxis.set_major_formatter(\n",
        "    mdates.ConciseDateFormatter(ax.xaxis.get_major_locator()))\n",
        "ax.xaxis.set_major_locator(mdates.MonthLocator(bymonth=(1, 7)))\n",
        "ax.xaxis.set_minor_locator(mdates.MonthLocator())\n",
        "ax.grid(True)\n",
        "ax.set_ylabel(f'USD')\n",
        "plt.legend()\n",
        "plt.show()"
      ],
      "metadata": {
        "id": "-nh5IaAZhC00"
      },
      "execution_count": null,
      "outputs": []
    },
    {
      "cell_type": "code",
      "source": [
        ""
      ],
      "metadata": {
        "id": "0ejnfhP7h1bu"
      },
      "execution_count": null,
      "outputs": []
    },
    {
      "cell_type": "markdown",
      "source": [
        "## E amanhã?"
      ],
      "metadata": {
        "id": "nlczJjQBllht"
      }
    },
    {
      "cell_type": "code",
      "source": [
        "real_data = [model_inputs[len(model_inputs) - prediction_days:len(model_inputs + 1), 0]]\n",
        "real_data = np.array(real_data)\n",
        "real_data = np.reshape(real_data, (real_data.shape[0], real_data.shape[1], 1))"
      ],
      "metadata": {
        "id": "3XXTvvEmlnEl"
      },
      "execution_count": null,
      "outputs": []
    },
    {
      "cell_type": "code",
      "source": [
        "real_data.shape"
      ],
      "metadata": {
        "id": "_AZuydFymoFS"
      },
      "execution_count": null,
      "outputs": []
    },
    {
      "cell_type": "code",
      "source": [
        "len(model_inputs)"
      ],
      "metadata": {
        "id": "0_owLmX-pRap"
      },
      "execution_count": null,
      "outputs": []
    },
    {
      "cell_type": "code",
      "source": [
        "prediction = model.predict(real_data)\n",
        "prediction = scaler.inverse_transform(prediction)\n",
        "print(f\"Prediction {prediction}\")"
      ],
      "metadata": {
        "id": "CRRoxRbJmizI"
      },
      "execution_count": null,
      "outputs": []
    }
  ]
}